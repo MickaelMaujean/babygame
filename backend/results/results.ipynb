{
 "cells": [
  {
   "cell_type": "code",
   "execution_count": 2,
   "metadata": {},
   "outputs": [],
   "source": [
    "import pandas as pd"
   ]
  },
  {
   "cell_type": "code",
   "execution_count": 3,
   "metadata": {},
   "outputs": [
    {
     "data": {
      "text/html": [
       "<div>\n",
       "<style scoped>\n",
       "    .dataframe tbody tr th:only-of-type {\n",
       "        vertical-align: middle;\n",
       "    }\n",
       "\n",
       "    .dataframe tbody tr th {\n",
       "        vertical-align: top;\n",
       "    }\n",
       "\n",
       "    .dataframe thead th {\n",
       "        text-align: right;\n",
       "    }\n",
       "</style>\n",
       "<table border=\"1\" class=\"dataframe\">\n",
       "  <thead>\n",
       "    <tr style=\"text-align: right;\">\n",
       "      <th></th>\n",
       "      <th>first_name</th>\n",
       "      <th>last_name</th>\n",
       "      <th>gender</th>\n",
       "      <th>size</th>\n",
       "      <th>weight</th>\n",
       "      <th>birthday</th>\n",
       "      <th>id</th>\n",
       "    </tr>\n",
       "  </thead>\n",
       "  <tbody>\n",
       "    <tr>\n",
       "      <th>0</th>\n",
       "      <td>Flash</td>\n",
       "      <td>Flash</td>\n",
       "      <td>M</td>\n",
       "      <td>456.0</td>\n",
       "      <td>456.0</td>\n",
       "      <td>2023-09-30T18:15:35</td>\n",
       "      <td>11</td>\n",
       "    </tr>\n",
       "    <tr>\n",
       "      <th>1</th>\n",
       "      <td>TEST</td>\n",
       "      <td>TEST</td>\n",
       "      <td>M</td>\n",
       "      <td>456.0</td>\n",
       "      <td>456.0</td>\n",
       "      <td>2023-09-22T20:29:58</td>\n",
       "      <td>12</td>\n",
       "    </tr>\n",
       "    <tr>\n",
       "      <th>2</th>\n",
       "      <td>Soren</td>\n",
       "      <td>Maujean</td>\n",
       "      <td>M</td>\n",
       "      <td>67.0</td>\n",
       "      <td>87.0</td>\n",
       "      <td>2024-01-04T00:14:37</td>\n",
       "      <td>13</td>\n",
       "    </tr>\n",
       "    <tr>\n",
       "      <th>3</th>\n",
       "      <td>Michael</td>\n",
       "      <td>Jordan</td>\n",
       "      <td>M</td>\n",
       "      <td>56.0</td>\n",
       "      <td>56.0</td>\n",
       "      <td>2023-10-08T10:14:18</td>\n",
       "      <td>14</td>\n",
       "    </tr>\n",
       "    <tr>\n",
       "      <th>4</th>\n",
       "      <td>Roger</td>\n",
       "      <td>Federer</td>\n",
       "      <td>F</td>\n",
       "      <td>56.0</td>\n",
       "      <td>78.0</td>\n",
       "      <td>2023-09-28T13:30:00</td>\n",
       "      <td>16</td>\n",
       "    </tr>\n",
       "  </tbody>\n",
       "</table>\n",
       "</div>"
      ],
      "text/plain": [
       "  first_name last_name gender   size  weight             birthday  id\n",
       "0      Flash     Flash      M  456.0   456.0  2023-09-30T18:15:35  11\n",
       "1       TEST      TEST      M  456.0   456.0  2023-09-22T20:29:58  12\n",
       "2      Soren   Maujean      M   67.0    87.0  2024-01-04T00:14:37  13\n",
       "3    Michael    Jordan      M   56.0    56.0  2023-10-08T10:14:18  14\n",
       "4      Roger   Federer      F   56.0    78.0  2023-09-28T13:30:00  16"
      ]
     },
     "execution_count": 3,
     "metadata": {},
     "output_type": "execute_result"
    }
   ],
   "source": [
    "results = pd.read_json(\"votes_result.json\")\n",
    "results.head()"
   ]
  }
 ],
 "metadata": {
  "kernelspec": {
   "display_name": "babyenv",
   "language": "python",
   "name": "python3"
  },
  "language_info": {
   "codemirror_mode": {
    "name": "ipython",
    "version": 3
   },
   "file_extension": ".py",
   "mimetype": "text/x-python",
   "name": "python",
   "nbconvert_exporter": "python",
   "pygments_lexer": "ipython3",
   "version": "3.11.5"
  },
  "orig_nbformat": 4
 },
 "nbformat": 4,
 "nbformat_minor": 2
}
